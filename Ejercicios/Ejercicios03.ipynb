{
 "metadata": {
  "name": "",
  "signature": "sha256:5643270106169a45cf51ee57581c7e727207e68d8de584c1a4bcc1dd78965fd3"
 },
 "nbformat": 3,
 "nbformat_minor": 0,
 "worksheets": [
  {
   "cells": [
    {
     "cell_type": "markdown",
     "metadata": {},
     "source": [
      "Ejercicios con Cadenas\n",
      "======================\n",
      "\n",
      "### A\\. Donuts\n",
      "Dada una cantidad entera (`int`) de n\u00fameros de donas retornar una cadena de la forma `'Numero de donas: <cantidad>'`, donde `<cantidad>` es el n\u00famero pasado como par\u00e1metro. Sin embargo, si la cantidad es 10 o m\u00e1s, entonces utilizar la palabra 'muchas' en vez de la cantidad.\n",
      "\n",
      "Ej. LLamando `donuts(5)` retorna `'Numero de donas: 5'` y `donuts(23)` retorna `'Numero de donas: muchas'` \n",
      "\n",
      "```python\n",
      "def donuts(cantidad):\n",
      "    # +++your code here+++\n",
      "    return\n",
      "```\n",
      "\n",
      "### B\\. both_ends\n",
      "Dada una cadena `s`, retornar una cadena hecha con los primeros 2 y los \u00faltimos 2 caracteres de la cadena original.\n",
      "\n",
      "Ej. `'spring'` devuelve `'spng'`. Pero, si la longitud de la cadena es menor a 2 retornar una cadena vacia.\n",
      "\n",
      "```python\n",
      "def both_ends(s):\n",
      "    # +++your code here+++\n",
      "    return\n",
      "```\n",
      "\n",
      "### C\\. fix_start\n",
      "Dada una cadena `s`, retornar una cadena donde todas las ocurrencias de su primer caracter sean cambiados por `'*'`, excepto no cambiar el primer caracter.\n",
      "\n",
      "Ej. `'babble'` retorna `'ba**le'`. Asumir que la cadena es de longitud 1 o mayor. Ayuda: `s.replace(stra, strb)` retorna una version de cadena `s` donde todas las instancias de `stra` fueron reemplazadas por `strb`.\n",
      "\n",
      "```python\n",
      "def fix_start(s):\n",
      "    # +++your code here+++\n",
      "    return\n",
      "```\n",
      "\n",
      "### D\\. MixUp\n",
      "Dadas 2 cadenas `a` y `b`, retornar una sola cadena con `a` y `b` separadas por un espacio `'<a> <b>'`, solo que intercambiando los primeros 2 caracteres de cada cadena.\n",
      "\n",
      "Ej. `'mix'`, `'pod'` retorna `'pox mid'` y `'dog'`, `'dinner'` retorna `'dig donner'`\n",
      "Asumir que `a` y `b` son de longitud 2 o m\u00e1s\n",
      "\n",
      "```python\n",
      "def mix_up(a, b):\n",
      "    # +++your code here+++\n",
      "    return\n",
      "```"
     ]
    }
   ],
   "metadata": {}
  }
 ]
}