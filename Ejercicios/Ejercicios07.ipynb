{
 "metadata": {
  "name": "",
  "signature": "sha256:64749298c47c68621b9084269b4760edbdc86246d73af532213aa12cb2944ee5"
 },
 "nbformat": 3,
 "nbformat_minor": 0,
 "worksheets": [
  {
   "cells": [
    {
     "cell_type": "markdown",
     "metadata": {},
     "source": [
      "Ejercicios con Bucles y Ciclos\n",
      "==============================\n",
      "\n",
      "### A\\. Suma y Promedio (Loop):\n",
      "Escribir un programa llamado SumAndAverage para producir la suma de  `1, 2, 3, ...,` hasta un limite fijo (e.j., `100`). Tambi\u00e9n calcular y desplegar el promedio. La salida ser\u00eda:\n",
      "\n",
      "```\n",
      "La suma es 5050\n",
      "El promedio es 50.5\n",
      "```\n",
      "\n",
      "\n",
      "### B\\. Producto de 1 a N (Loop):\n",
      "Escribir un programa llamado `Product1ToN` para calcular el producto de enteros de  1 a 10 (e.j., $1\\times2\\times3\\times...\\times10$). Tratar de calcular el producto de  `1` a `11`, `1` a `12`, `1` a `13` y `1` a `14`. Escribir el producto obtenido y explicar los resultados.\n",
      "\n",
      "### C\\. Suma Arm\u00f3nica:\n",
      "\n",
      "Escribir un programa llamado  HarmonicSum que calcule la suma de una serie armonica, como se muestra abajo, donde `n = 50.000`. El programa debe calcular la suma empezando de izquierda-derecha y tambi\u00e9n hacer el calculo de derecha-izquierda. Obtener la diferencia entre estas dos sumas y explicar las similitudes. \u00bfCual suma es m\u00e1s precisa?\n",
      "\n",
      "<img src=\"data:image/png;base64,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\" title=\"Harm\">\n",
      "\n",
      "### D\\. Calculo de PI\n",
      "\n",
      "Escribir un programa llamado `ComputePI` para calcular el valor de $\\pi$, utilizando la siguiente serie en expansi\u00f3n. Tendr\u00e1 que decidir el criterio para terminar utilizado en el calculo (como el n\u00famero de terminos utilizados o la magnitud de un t\u00e9rmino adicional). \u00bfEs esta serie apropiada para calcular $\\pi$?\n",
      "\n",
      "\n",
      "<img src=\"data:image/png;base64,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\" title=\"PI\">\n",
      "\n",
      "\n",
      "### E\\. TimeTable (nested-loop)\n",
      "\n",
      "Escribir un programa llamado TimeTable que produzca la tabla de multiplicaci\u00f3n del 1 al 9 como se muestra utilizando bucles anidados:\n",
      "\n",
      "```\n",
      "* | 1  2  3  4  5  6  7  8  9\n",
      "-------------------------------\n",
      "1 | 1  2  3  4  5  6  7  8  9\n",
      "2 | 2  4  6  8 10 12 14 16 18\n",
      "3 | 3  6  9 12 15 18 21 24 27\n",
      "4 | 4  8 12 16 20 24 28 32 36\n",
      "5 | 5 10 15 20 25 30 35 40 45\n",
      "6 | 6 12 18 24 30 36 42 48 54\n",
      "7 | 7 14 21 28 35 42 49 56 63\n",
      "8 | 8 16 24 32 40 48 56 64 72\n",
      "9 | 9 18 27 36 45 54 63 72 81\n",
      "```\n",
      "\n",
      "Luego modificar el programa para imprimir la tabla del 1 al 12"
     ]
    },
    {
     "cell_type": "code",
     "collapsed": false,
     "input": [],
     "language": "python",
     "metadata": {},
     "outputs": []
    }
   ],
   "metadata": {}
  }
 ]
}