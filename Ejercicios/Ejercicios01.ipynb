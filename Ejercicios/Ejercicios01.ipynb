{
 "metadata": {
  "name": "",
  "signature": "sha256:41a7495dfa6f3dd33d7fe3b69cbf0f91d0126412d859eac2df5f483ebbbbea58"
 },
 "nbformat": 3,
 "nbformat_minor": 0,
 "worksheets": [
  {
   "cells": [
    {
     "cell_type": "markdown",
     "metadata": {},
     "source": [
      "Ejercicios 1\n",
      "==============\n",
      "_____________________\n",
      "1\\. Para cada expresi\u00f3n, \u00bfCu\u00e1l es el resultado en Python? Verificar en el interprete\n",
      "\n",
      "+ `9 - 3`\n",
      "+ `8 * 2.5`\n",
      "+ `9 / 2`\n",
      "+ `11.2 / -2`\n",
      "+ `11.2 // -2`\n",
      "+ `9 % 2`\n",
      "+ `9 % 2.0`\n",
      "+ `9.0 % 2`\n",
      "+ `-9 % 2`\n",
      "+ `9 / -2.0`\n",
      "+ `4 + 3*5`\n",
      "+ `(4 + 3)*5`\n",
      "\n",
      "2\\. Evalue las siguentes expresiones\n",
      "\n",
      "+ Crear una variable `temp` y asignarle el valor 24\n",
      "+ Convertir el valor de Celsius a Fahrenheit multiplicando por 1.8 y agregando 32, asociar el valor resultante con *temp*. \n",
      "Imprimir el valor de `temp`.\n",
      "\n",
      "3\\. Para cada una de las expresiones, \u00bfen que orden se realizan las subexpresiones?\n",
      "\n",
      "+ `6 * 3 + 7 * 4`\n",
      "+ `5 + 3 / 4`\n",
      "+ `5 - 2 * 3 ** 4`\n",
      "\n",
      "4\\. Realizar las siguientes operaciones.\n",
      "\n",
      "+ Crear una nueva variable `x` y asignar el valor `10.5`\n",
      "+ Crear una nueva variable `y` y asignar el valor `4`\n",
      "+ Sumar `x` e `y`, y asignar el resultado en `x`. \u00bfCu\u00e1les son los valores finales de `x` e `y`?.\n",
      "\n",
      "\n",
      "5\\. Utilizar las siguientes funciones incluidas en python `abs`, `round`, `pow`, `int` y `float`. Escriba las siguientes expresiones.\n",
      "\n",
      "+ Calcular 3 elevado a la potencia de 7\n",
      "+ Convertir 34.7 a entero truncado\n",
      "+ Convertir 34.7 a entero redondeado\n",
      "+ Convertir el valor absoluto de -86 a un numero de coma flotante\n",
      "\n",
      "*Nota: Puede utilizar la funci\u00f3n `help(func)` para obtener mas ayuda.*"
     ]
    }
   ],
   "metadata": {}
  }
 ]
}