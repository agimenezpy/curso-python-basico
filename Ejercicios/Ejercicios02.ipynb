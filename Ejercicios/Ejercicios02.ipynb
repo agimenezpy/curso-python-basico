{
 "metadata": {
  "name": "",
  "signature": "sha256:d6d4eb7b439ad5e9f09fa5b5ea330f1954d710068f0d210074786ad8e1616386"
 },
 "nbformat": 3,
 "nbformat_minor": 0,
 "worksheets": [
  {
   "cells": [
    {
     "cell_type": "markdown",
     "metadata": {},
     "source": [
      "Ejercicios: Cadenas\n",
      "====================\n",
      "_____________________\n",
      "1\\. Para cada una de las siguientes expresiones, \u00bfcu\u00e1l es el valor resultante?\n",
      "\n",
      "+ `'Comp' 'Sci'`\n",
      "+ `'Computer' + 'Science'`\n",
      "+ `'Darwin\\'s'`\n",
      "+ `'H2O'*3`\n",
      "+ `'CO2'*0`\n",
      "\n",
      "2\\. Imprima estas frases expresandolas como cadenas Python, utilice la notaci\u00f3n que crea conveniente.\n",
      "\n",
      "+ They'll hibernate during winter\n",
      "+ \"Absolutely not,\" he said.\n",
      "+ \"He said, 'Absolutely not,'\" recalled Mel.\n",
      "+ hydrogen sulfide\n",
      "+ left\\right\n",
      "\n",
      "3\\. Utilice la funcion `len` para determinar la longitud de las siguientes cadenas\n",
      "\n",
      "+ `\"\"`\n",
      "+ `\"Washington\"` \n",
      "+ `'abc'`\n",
      "\n",
      "4\\. Dadas las siguientes variables `x` e `y`, cuyos valores son `3` y `12.5`. Utilizar la sentencia `print` \n",
      "para desplegar los siguientes mensajes.\n",
      "\n",
      "+ El conejo tiene 3\n",
      "+ El conejo tiene 3 a\u00f1os\n",
      "+ 12.5 es el promedio\n",
      "+ 12.5 * 3\n",
      "+ 12.5 * 3 es 37.5\n",
      "\n",
      "5\\. Utilizar el operador de formato `%` para generar las siguientes transformaciones.\n",
      "\n",
      "+ `\"____\" % 34.5` => `\"34.50\"` \n",
      "+ `\"____\" % 34.5` => `\"3.45e+01\"` \n",
      "+ `\"____\" % 8` => `\"0008\"` \n",
      "+ `\"____\" % 8` => `\"8\"`\n",
      "\n",
      "_Ayuda_: [Ver la documentaci\u00f3n](https://docs.python.org/2/library/stdtypes.html#string-formatting) sobre el operador de formato `%`\n",
      "\n",
      "6\\. Utilizar la funcion `raw_input` para pedir al usuario un n\u00famero del teclado. Convertir el valor real (`float`) y asignarlo a una variable `num`, y luego imprimir el contenido de `num`.\n",
      "\n",
      "7\\. Pedir al usuario un n\u00famero del teclado. Convertir el valor a entero (`int`) y almacenarlo en la variable `edad`. Realizar las siguientes operaciones.\n",
      "\n",
      "+ Calcular los dias vividos en una variable `dias` e imprimirlo. Un a\u00f1o tiene 365 dias\n",
      "+ Calcular las horas vividas una variable `horas` e imprimirlo. Una dia tiene 24 horas\n",
      "+ Calcular los minutos vividos en una variable `minutos` e imprimirlo. Una hora tiene 60 minutos\n",
      "+ Calcular los segundos vividos en una variable `segundos` e imprimirlo. Un minuto tiene 60 segundos\n",
      "\n",
      "_Ayuda_: La impresi\u00f3n puede ser `\"Usted tiene XX dias, YY horas, NN minutos y SS segundos vividos\"`"
     ]
    }
   ],
   "metadata": {}
  }
 ]
}