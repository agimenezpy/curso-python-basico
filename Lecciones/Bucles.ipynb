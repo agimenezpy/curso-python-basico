{
 "cells": [
  {
   "cell_type": "markdown",
   "metadata": {},
   "source": [
    "# Información General\n",
    "\n",
    "## Referencias\n",
    "Este tutorial está adaptado de [for loops](https://geo-python.github.io/site/notebooks/L3/for-loops.html)\n",
    "\n",
    "## Acerca de\n",
    "\n",
    "\n",
    "Este tutorial esta orientado a utilizar *Notebooks* de Jupyter que puede ser abiertos directamente desde el programa Jupyter Notebooks o Jupyter Lab por medio del programa desde la consola de Python de ArcGIS Pro:\n",
    "\n",
    "```\n",
    "$ jupyter lab\n",
    "```\n",
    "\n",
    "## Primeros Pasos\n",
    "\n",
    "Para poder ejecutar instrucciones en Python tiene las siguientes alternativas:\n",
    "- Interprete Python\n",
    "- Editor Interactivo IDLE\n",
    "- Jupyter Notebook\n",
    "\n",
    "En los interpretes de Python se presiona \"Enter\" para poder ejecutar una instrucción. En Jupyter Notebook se presiona \"Shift-Enter\" para ejecutar una celda de código.\n",
    "\n",
    "Una vez abierto una de las opciones puede probar escribir la instrucción básica:\n",
    "\n",
    "```\n",
    "print(\"Hola mundo\")\n",
    "```"
   ]
  },
  {
   "cell_type": "markdown",
   "metadata": {},
   "source": [
    "## Nociones básicas\n",
    "\n",
    "Los ciclos o bucles permiten que partes del código se repiten con un número de veces.\n",
    "\n",
    "### Un ejemplo iterativo\n",
    "\n",
    "Considerando como ejemplo la siguiente lista. En caso de imprimir cada nombre de pais se puede realizar de manera iterativa:"
   ]
  },
  {
   "cell_type": "code",
   "execution_count": 1,
   "metadata": {},
   "outputs": [],
   "source": [
    "cities = ['Helsinki', 'Paris', 'Barcelona', 'Uppsala']"
   ]
  },
  {
   "cell_type": "code",
   "execution_count": 2,
   "metadata": {},
   "outputs": [
    {
     "name": "stdout",
     "output_type": "stream",
     "text": [
      "Helsinki\n"
     ]
    }
   ],
   "source": [
    "print(cities[0])"
   ]
  },
  {
   "cell_type": "code",
   "execution_count": 3,
   "metadata": {},
   "outputs": [
    {
     "name": "stdout",
     "output_type": "stream",
     "text": [
      "Paris\n"
     ]
    }
   ],
   "source": [
    "print(cities[1])"
   ]
  },
  {
   "cell_type": "code",
   "execution_count": 4,
   "metadata": {},
   "outputs": [
    {
     "name": "stdout",
     "output_type": "stream",
     "text": [
      "Barcelona\n"
     ]
    }
   ],
   "source": [
    "print(cities[2])"
   ]
  },
  {
   "cell_type": "code",
   "execution_count": 5,
   "metadata": {},
   "outputs": [
    {
     "name": "stdout",
     "output_type": "stream",
     "text": [
      "Uppsala\n"
     ]
    }
   ],
   "source": [
    "print(cities[3])"
   ]
  },
  {
   "cell_type": "markdown",
   "metadata": {},
   "source": [
    "Sin embargo, si la lista continua creciendo seria impracticable imprimir todos los valores posibles utilizando el índice y podria incurrir en sobrepasar la cantidad de elementos de la lista:"
   ]
  },
  {
   "cell_type": "code",
   "execution_count": 6,
   "metadata": {},
   "outputs": [
    {
     "ename": "IndexError",
     "evalue": "list index out of range",
     "output_type": "error",
     "traceback": [
      "\u001b[0;31m---------------------------------------------------------------------------\u001b[0m\n\u001b[0;31mIndexError\u001b[0m                                Traceback (most recent call last)",
      "In  \u001b[0;34m[6]\u001b[0m:\nLine \u001b[0;34m1\u001b[0m:     \u001b[36mprint\u001b[39;49;00m(cities[\u001b[34m4\u001b[39;49;00m])\n",
      "\u001b[0;31mIndexError\u001b[0m: list index out of range\n\u001b[0;31m---------------------------------------------------------------------------\u001b[0m"
     ]
    }
   ],
   "source": [
    "print(cities[4])"
   ]
  },
  {
   "cell_type": "markdown",
   "metadata": {},
   "source": [
    "### Utilizando bucles\n",
    "\n",
    "Para mejorar esta tarea, utilzar los bucles `for` son una mejor opción."
   ]
  },
  {
   "cell_type": "code",
   "execution_count": 7,
   "metadata": {},
   "outputs": [],
   "source": [
    "cities = ['Amsterdam', 'Brussels', 'Lisbon', 'Reykjavik']"
   ]
  },
  {
   "cell_type": "code",
   "execution_count": 9,
   "metadata": {},
   "outputs": [
    {
     "name": "stdout",
     "output_type": "stream",
     "text": [
      "Amsterdam\n",
      "Brussels\n",
      "Lisbon\n",
      "Reykjavik\n"
     ]
    }
   ],
   "source": [
    "for city in cities:\n",
    "    print(city)"
   ]
  },
  {
   "cell_type": "markdown",
   "metadata": {},
   "source": [
    "De esta manera se hace corto el código y tenemos más flexibilidad. Si tenemos por ejemplo otra lista de ciudades de otro pais queda cuanto sigue:"
   ]
  },
  {
   "cell_type": "code",
   "execution_count": 10,
   "metadata": {},
   "outputs": [
    {
     "name": "stdout",
     "output_type": "stream",
     "text": [
      "Detroit\n",
      "Chicago\n",
      "Denver\n",
      "Boston\n",
      "Portland\n",
      "San Francisco\n",
      "Houston\n",
      "Orlando\n"
     ]
    }
   ],
   "source": [
    "us_cities = ['Detroit', 'Chicago', 'Denver', 'Boston', 'Portland', 'San Francisco', 'Houston', 'Orlando']\n",
    "for city in us_cities:\n",
    "    print(city)"
   ]
  },
  {
   "cell_type": "markdown",
   "metadata": {},
   "source": [
    "### Formato bucle for \n",
    "\n",
    "El bucle `for` en Python es de la siguiente forma general.\n",
    "\n",
    "```python\n",
    "for variable in collection:\n",
    "        do things with variable\n",
    "```\n",
    "\n",
    "La `variable` puede llevar el nombre que el programador decida, la sentencia  del bucle `for` debe terminar con el caracter `:`.\n",
    "Un detalle a acotar es que el código a ejectuar dentro del bucle debe estar correctamente alineado con el dentro de la sentencia `for` utilizando espacios, tipicamente 4 espacios (presionar tecla `tab`).\n",
    "Estos bucles `for` son útiles para repetir parte del código de manera definida un número de veces."
   ]
  },
  {
   "cell_type": "markdown",
   "metadata": {},
   "source": [
    "### Variables de bucle for\n",
    "Las variables utilizadas en un bucle son variables normales que una vez completado el ciclo aún están disponibles y almacenan el valor del valor final del bucle. A modo de ejemplo se listan unas condiciones metereológicas e imprimien en la pantalla. Al finalizar, utilizar la variable del bucle tiene un valor final."
   ]
  },
  {
   "cell_type": "code",
   "execution_count": 11,
   "metadata": {},
   "outputs": [],
   "source": [
    "conditions = ['rain', 'sleet', 'snow', 'freezing fog', 'sunny', 'cloudy', 'ice pellets']\n"
   ]
  },
  {
   "cell_type": "code",
   "execution_count": 12,
   "metadata": {},
   "outputs": [
    {
     "name": "stdout",
     "output_type": "stream",
     "text": [
      "rain\n",
      "sleet\n",
      "snow\n",
      "freezing fog\n",
      "sunny\n",
      "cloudy\n",
      "ice pellets\n"
     ]
    }
   ],
   "source": [
    "for weather in conditions:\n",
    "    print(weather)"
   ]
  },
  {
   "cell_type": "code",
   "execution_count": 14,
   "metadata": {},
   "outputs": [
    {
     "name": "stdout",
     "output_type": "stream",
     "text": [
      "After the loop, weather is ice pellets\n"
     ]
    }
   ],
   "source": [
    "print('After the loop, weather is ' + weather)"
   ]
  },
  {
   "cell_type": "markdown",
   "metadata": {},
   "source": [
    "### Bucles for y la función range()\n",
    "Un bucle puede ser utilizado para iterar sobre cualquier lista de valores in Python. Todas las listas consideradas hasta ahora estuvieron predefinidas, pero en muchos casos necesitamos utilizar cálculos un número de veces y podemos utilizar la función `range()`. Como ejmplo, se realiza un bucle con un valor de la variable del buclo en base a un rango de 5. "
   ]
  },
  {
   "cell_type": "code",
   "execution_count": 15,
   "metadata": {},
   "outputs": [
    {
     "name": "stdout",
     "output_type": "stream",
     "text": [
      "0\n",
      "1\n",
      "2\n",
      "3\n",
      "4\n"
     ]
    }
   ],
   "source": [
    "for value in range(5):\n",
    "    print(value)"
   ]
  },
  {
   "cell_type": "markdown",
   "metadata": {},
   "source": [
    "En este caso, la función `range()` nos permite tener una lista de 5 números secuenciales empezando en 0 resultando en `[0, 1, 2, 3, 4]`."
   ]
  },
  {
   "cell_type": "code",
   "execution_count": null,
   "metadata": {},
   "outputs": [],
   "source": []
  }
 ],
 "metadata": {
  "kernelspec": {
   "display_name": "ArcGISPro",
   "language": "Python",
   "name": "python3"
  },
  "language_info": {
   "file_extension": ".py",
   "name": "python",
   "version": "3"
  }
 },
 "nbformat": 4,
 "nbformat_minor": 2
}
