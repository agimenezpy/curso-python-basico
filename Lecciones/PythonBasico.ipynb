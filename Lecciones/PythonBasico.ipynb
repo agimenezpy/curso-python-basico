{
 "cells": [
  {
   "cell_type": "markdown",
   "metadata": {},
   "source": [
    "# Información General\n",
    "\n",
    "## Referencias\n",
    "Este tutorial está adaptado de [A taste of Python](https://geo-python.github.io/site/notebooks/L1/a-taste-of-python.html)\n",
    "\n",
    "## Acerca de\n",
    "\n",
    "\n",
    "Este tutorial esta orientado a utilizar *Notebooks* de Jupyter que puede ser abiertos directamente desde el programa Jupyter Notebooks o Jupyter Lab por medio del programa desde la consola de Python de ArcGIS Pro:\n",
    "\n",
    "```\n",
    "$ jupyter lab\n",
    "```\n",
    "\n",
    "## Primeros Pasos\n",
    "\n",
    "Para poder ejecutar instrucciones en Python tiene las siguientes alternativas:\n",
    "- Interprete Python\n",
    "- Editor Interactivo IDLE\n",
    "- Jupyter Notebook\n",
    "\n",
    "En los interpretes de Python se presiona \"Enter\" para poder ejecutar una instrucción. En Jupyter Notebook se presiona \"Shift-Enter\" para ejecutar una celda de código.\n",
    "\n",
    "Una vez abierto una de las opciones puede probar escribir la instrucción básica:\n",
    "\n",
    "```\n",
    "print(\"Hola mundo\")\n",
    "```"
   ]
  },
  {
   "cell_type": "markdown",
   "metadata": {},
   "source": [
    "## Variables, operaciones y funciones matemáticas"
   ]
  },
  {
   "cell_type": "markdown",
   "metadata": {},
   "source": [
    "### Operadores\n",
    "En Python existen una lista de operadores aritmeticos básicos como la tabla de abajo:\n",
    "\n",
    "| Operación      | Simbolo| Ejemplo        | Valor          |\n",
    "| -------------- | ------ | -------------- | -------------- |\n",
    "| Sumar          | `+`    | `2 + 2`        | `4`            |\n",
    "| Restar         | `-`    | `4 - 2`        | `2`            |\n",
    "| Multiplicar    | `*`    | `2 * 3`        | `6`            | \n",
    "| Dividir        | `/`    | `4 / 2`        | `2`            |\n",
    "| Potencia       | `**`   | `2**3`         | `8`            |\n",
    "\n",
    "Python puede ser utilizado como una calculadora simple. En las celdas de abajo se muestra cómo ejectuar instruncciones de prueba. Prueba tipeando una instrucción como `1 + 1` o `5 * 7`."
   ]
  },
  {
   "cell_type": "code",
   "execution_count": 1,
   "metadata": {},
   "outputs": [
    {
     "data": {
      "text/plain": [
       "2"
      ]
     },
     "execution_count": 1,
     "metadata": {},
     "output_type": "execute_result"
    }
   ],
   "source": [
    "1 + 1"
   ]
  },
  {
   "cell_type": "code",
   "execution_count": 2,
   "metadata": {},
   "outputs": [
    {
     "data": {
      "text/plain": [
       "35"
      ]
     },
     "execution_count": 2,
     "metadata": {},
     "output_type": "execute_result"
    }
   ],
   "source": [
    "5 * 7"
   ]
  },
  {
   "cell_type": "markdown",
   "metadata": {},
   "source": [
    "### Funciones\n",
    "En Python existen funciones incluidas por defecto y otras incluidas en módulos que deben ser importadas. Las funciones son piezas de códigos para realizar una acción simple como imprimir en la pantalla (Ej. ```print()```) y otras como redondear un número, valor absoluto y convertir valores.\n",
    "\n",
    "A continuación probamos las siguientes funciones básicas incluidas en Python."
   ]
  },
  {
   "cell_type": "code",
   "execution_count": 4,
   "metadata": {},
   "outputs": [
    {
     "name": "stdout",
     "output_type": "stream",
     "text": [
      "Hola mundo\n"
     ]
    }
   ],
   "source": [
    "print(\"Hola mundo\")"
   ]
  },
  {
   "cell_type": "code",
   "execution_count": 5,
   "metadata": {},
   "outputs": [
    {
     "data": {
      "text/plain": [
       "1"
      ]
     },
     "execution_count": 5,
     "metadata": {},
     "output_type": "execute_result"
    }
   ],
   "source": [
    "abs(-1)"
   ]
  },
  {
   "cell_type": "code",
   "execution_count": 7,
   "metadata": {},
   "outputs": [
    {
     "data": {
      "text/plain": [
       "1.7"
      ]
     },
     "execution_count": 7,
     "metadata": {},
     "output_type": "execute_result"
    }
   ],
   "source": [
    "round(1.68, 1)"
   ]
  },
  {
   "cell_type": "code",
   "execution_count": 8,
   "metadata": {},
   "outputs": [
    {
     "data": {
      "text/plain": [
       "151"
      ]
     },
     "execution_count": 8,
     "metadata": {},
     "output_type": "execute_result"
    }
   ],
   "source": [
    "# De texto a número\n",
    "int(\"150\") + 1"
   ]
  },
  {
   "cell_type": "markdown",
   "metadata": {},
   "source": [
    "Para probar unos ejemplos de funciones como calculos de seno o raiz cuadrada necesitamos utilizar un módulo. Este módulo es llamado ```math``` y puede ser utilizado incluyendolo.\n",
    "\n",
    "Una vez incluido se pueden utilizar diferentes funciones matematicas disponibles en el mismo."
   ]
  },
  {
   "cell_type": "code",
   "execution_count": 9,
   "metadata": {},
   "outputs": [],
   "source": [
    "import math"
   ]
  },
  {
   "cell_type": "code",
   "execution_count": 10,
   "metadata": {},
   "outputs": [
    {
     "data": {
      "text/plain": [
       "0.8939966636005579"
      ]
     },
     "execution_count": 10,
     "metadata": {},
     "output_type": "execute_result"
    }
   ],
   "source": [
    "math.sin(90)"
   ]
  },
  {
   "cell_type": "code",
   "execution_count": 11,
   "metadata": {},
   "outputs": [
    {
     "data": {
      "text/plain": [
       "2.0"
      ]
     },
     "execution_count": 11,
     "metadata": {},
     "output_type": "execute_result"
    }
   ],
   "source": [
    "math.sqrt(4)"
   ]
  },
  {
   "cell_type": "code",
   "execution_count": 12,
   "metadata": {},
   "outputs": [
    {
     "data": {
      "text/plain": [
       "3.141592653589793"
      ]
     },
     "execution_count": 12,
     "metadata": {},
     "output_type": "execute_result"
    }
   ],
   "source": [
    "math.pi"
   ]
  },
  {
   "cell_type": "markdown",
   "metadata": {},
   "source": [
    "Se puede combinar los resultados de las funciones incluyendo las dentro de los parentesis. En este ejemplo se muestra como imprimir en la pantalla el resultado de las operaciones. Tambien se puede combinar mensajes de texto con cálculos para mostrar el resultado."
   ]
  },
  {
   "cell_type": "code",
   "execution_count": 14,
   "metadata": {},
   "outputs": [
    {
     "name": "stdout",
     "output_type": "stream",
     "text": [
      "2.0\n"
     ]
    }
   ],
   "source": [
    "print(math.sqrt(4))"
   ]
  },
  {
   "cell_type": "code",
   "execution_count": 15,
   "metadata": {},
   "outputs": [
    {
     "name": "stdout",
     "output_type": "stream",
     "text": [
      "Dos mas dos es  4\n"
     ]
    }
   ],
   "source": [
    "print(\"Dos mas dos es\", 2 + 2)"
   ]
  },
  {
   "cell_type": "code",
   "execution_count": 16,
   "metadata": {},
   "outputs": [
    {
     "name": "stdout",
     "output_type": "stream",
     "text": [
      "La raiz cuadrada de 4 es 2.0\n"
     ]
    }
   ],
   "source": [
    "print(\"La raiz cuadrada de 4 es\", math.sqrt(4))"
   ]
  },
  {
   "cell_type": "code",
   "execution_count": 17,
   "metadata": {},
   "outputs": [
    {
     "data": {
      "text/plain": [
       "2"
      ]
     },
     "execution_count": 17,
     "metadata": {},
     "output_type": "execute_result"
    }
   ],
   "source": [
    "# Valor entero de un real\n",
    "int(math.sqrt(4))"
   ]
  },
  {
   "cell_type": "markdown",
   "metadata": {},
   "source": [
    "### Variables\n",
    "Las variables son utilizadas para almacenar valores calculados en expresiones y utilizados para otros calculos.  Asignar un valor a una variables es sencillo, se asigna una valor por medio de la expresión ```variable_name = value```, donde ```variable_name``` es el nombre a asignar a la variable. El ejemplo de abajo define una variable ```temp_celsius``` y se asigna el valor de ‘10.0’ y luego imprimir los valores con la función de ```print()```.\n",
    "\n",
    "Además, en el siguiente ejemplo se imprime el valor de ```temp_celsius``` en grados Fahrenheit por medio del calculo de multiplicar ```temp_celsius``` por 9/5 y sumar 32."
   ]
  },
  {
   "cell_type": "code",
   "execution_count": 18,
   "metadata": {},
   "outputs": [
    {
     "name": "stdout",
     "output_type": "stream",
     "text": [
      "10.0\n"
     ]
    }
   ],
   "source": [
    "temp_celsius = 10.0\n",
    "print(temp_celsius)"
   ]
  },
  {
   "cell_type": "code",
   "execution_count": 22,
   "metadata": {},
   "outputs": [
    {
     "name": "stdout",
     "output_type": "stream",
     "text": [
      "Temperatura en Fahrenheit: 59.0\n"
     ]
    }
   ],
   "source": [
    "print('Temperatura en Fahrenheit:', 9/5 * temp_celsius + 32)"
   ]
  },
  {
   "cell_type": "markdown",
   "metadata": {},
   "source": [
    "### Actualizar variables\n",
    "Los valores almacenados en una variable pueden ser actualizados. Se redefine el valor de ```temp_celsius``` a 15.0 y se despliega el valor.\n",
    "\n"
   ]
  },
  {
   "cell_type": "code",
   "execution_count": 20,
   "metadata": {},
   "outputs": [],
   "source": [
    "temp_celsius = 15.0"
   ]
  },
  {
   "cell_type": "code",
   "execution_count": 21,
   "metadata": {},
   "outputs": [
    {
     "name": "stdout",
     "output_type": "stream",
     "text": [
      "la temperatura en Celsius es: 15.0\n"
     ]
    }
   ],
   "source": [
    "print('la temperatura en Celsius es:', temp_celsius)"
   ]
  },
  {
   "cell_type": "markdown",
   "metadata": {},
   "source": [
    "<div class=\"alert alert-warning\">\n",
    "\n",
    "**Advertencia**\n",
    "\n",
    "Si trata de ejecutar una instrucción que trate de acceder a una variable que no está definida recibirá el siguiente error: El mensaje de `NameError`.\n",
    "\n",
    "</div>"
   ]
  },
  {
   "cell_type": "code",
   "execution_count": 23,
   "metadata": {},
   "outputs": [
    {
     "ename": "NameError",
     "evalue": "name 'tempFahrenheit' is not defined",
     "output_type": "error",
     "traceback": [
      "\u001b[0;31m---------------------------------------------------------------------------\u001b[0m\n\u001b[0;31mNameError\u001b[0m                                 Traceback (most recent call last)",
      "In  \u001b[0;34m[23]\u001b[0m:\nLine \u001b[0;34m1\u001b[0m:     \u001b[36mprint\u001b[39;49;00m(\u001b[33m'\u001b[39;49;00m\u001b[33mTemperatura en Celsius:\u001b[39;49;00m\u001b[33m'\u001b[39;49;00m, \u001b[34m5\u001b[39;49;00m/\u001b[34m9\u001b[39;49;00m * (tempFahrenheit - \u001b[34m32\u001b[39;49;00m))\n",
      "\u001b[0;31mNameError\u001b[0m: name 'tempFahrenheit' is not defined\n\u001b[0;31m---------------------------------------------------------------------------\u001b[0m"
     ]
    }
   ],
   "source": [
    "print('Temperatura en Celsius:', 5/9 * (tempFahrenheit - 32))"
   ]
  },
  {
   "cell_type": "markdown",
   "metadata": {},
   "source": [
    "<div class=\"alert alert-info\">\n",
    "\n",
    "**Nota**\n",
    "\n",
    "Primero, vamos a definir la variable `tempFahrenheit` con el calculo `9/5 * temp_celsius + 32`, que e el factor de conversión de temperaturas de Celsius a Fahrenheit.\n",
    "</div>"
   ]
  },
  {
   "cell_type": "code",
   "execution_count": 24,
   "metadata": {},
   "outputs": [],
   "source": [
    "tempFahrenheit = 9/5 * temp_celsius + 32"
   ]
  },
  {
   "cell_type": "code",
   "execution_count": 25,
   "metadata": {},
   "outputs": [
    {
     "name": "stdout",
     "output_type": "stream",
     "text": [
      "temperatura en Celsius: 15.0 and en Fahrenheit: 59.0\n"
     ]
    }
   ],
   "source": [
    "print('temperatura en Celsius:', temp_celsius, 'and en Fahrenheit:', tempFahrenheit)"
   ]
  },
  {
   "cell_type": "markdown",
   "metadata": {},
   "source": [
    "### Tipos de datos\n",
    "En Python se utilizan 4 *data types* básicos como se muestra en la tabla.\n",
    "\n",
    "| Data type      | Descripción          | Ejemplo    |\n",
    "| -------------- | -------------------- | ---------- |\n",
    "| `int`          | Enteros              | `4`        |\n",
    "| `float`        | Valores con decimal  | `3.1415`   |\n",
    "| `str`          | Cadenas de caracteres| `'Hot'`    |\n",
    "| `bool`         | Valroes True/False   | `True`     |\n",
    "\n",
    "Para obtener mas detalles de un tipo utilice la función `type()`. Para tener en cuenta, los tipos de datos definen si los valores son compatibles unos con otros.\n",
    "\n",
    "A continuación definimos una variable de texto y verificamos su tipo."
   ]
  },
  {
   "cell_type": "code",
   "execution_count": 26,
   "metadata": {},
   "outputs": [
    {
     "data": {
      "text/plain": [
       "<class 'str'>"
      ]
     },
     "execution_count": 26,
     "metadata": {},
     "output_type": "execute_result"
    }
   ],
   "source": [
    "weatherForecast = 'Hot'\n",
    "type(weatherForecast)"
   ]
  },
  {
   "cell_type": "code",
   "execution_count": 28,
   "metadata": {},
   "outputs": [
    {
     "ename": "TypeError",
     "evalue": "can't multiply sequence by non-int of type 'float'",
     "output_type": "error",
     "traceback": [
      "\u001b[0;31m---------------------------------------------------------------------------\u001b[0m\n\u001b[0;31mTypeError\u001b[0m                                 Traceback (most recent call last)",
      "In  \u001b[0;34m[28]\u001b[0m:\nLine \u001b[0;34m1\u001b[0m:     weatherForecast*tempFahrenheit\n",
      "\u001b[0;31mTypeError\u001b[0m: can't multiply sequence by non-int of type 'float'\n\u001b[0;31m---------------------------------------------------------------------------\u001b[0m"
     ]
    }
   ],
   "source": [
    "# No trate de multiplicar tipos distintos\n",
    "weatherForecast*tempFahrenheit"
   ]
  },
  {
   "cell_type": "markdown",
   "metadata": {},
   "source": [
    "### Ingresar caracteres\n",
    "Utilice la función `input` para obtener datos de teclado (En Python 2 `raw_input`). Donde al almacenar el valor en una variable se tiene un tipo cadena."
   ]
  },
  {
   "cell_type": "code",
   "execution_count": 29,
   "metadata": {},
   "outputs": [
    {
     "name": "stdout",
     "output_type": "stream",
     "text": [
      "Donde vives? Asuncion\n",
      "Asuncion  es un lugar bonito!\n"
     ]
    }
   ],
   "source": [
    "place = input('Donde vives? ')\n",
    "print(place, ' es un lugar bonito!')"
   ]
  },
  {
   "cell_type": "markdown",
   "metadata": {},
   "source": [
    "En caso de ingresar por teclado un valor desde teclado debe ser convertido a numero para realizar un cálculo."
   ]
  },
  {
   "cell_type": "code",
   "execution_count": 31,
   "metadata": {},
   "outputs": [
    {
     "name": "stdout",
     "output_type": "stream",
     "text": [
      "Cuantos grados Celsius? 30\n",
      "<class 'str'>\n"
     ]
    }
   ],
   "source": [
    "temp_celsius = input('Cuantos grados Celsius? ')\n",
    "print(type(temp_celsius))"
   ]
  },
  {
   "cell_type": "code",
   "execution_count": 32,
   "metadata": {},
   "outputs": [
    {
     "ename": "TypeError",
     "evalue": "can't multiply sequence by non-int of type 'float'",
     "output_type": "error",
     "traceback": [
      "\u001b[0;31m---------------------------------------------------------------------------\u001b[0m\n\u001b[0;31mTypeError\u001b[0m                                 Traceback (most recent call last)",
      "In  \u001b[0;34m[32]\u001b[0m:\nLine \u001b[0;34m3\u001b[0m:     tempFahrenheit = \u001b[34m9\u001b[39;49;00m/\u001b[34m5\u001b[39;49;00m * temp_celsius + \u001b[34m32\u001b[39;49;00m\n",
      "\u001b[0;31mTypeError\u001b[0m: can't multiply sequence by non-int of type 'float'\n\u001b[0;31m---------------------------------------------------------------------------\u001b[0m"
     ]
    }
   ],
   "source": [
    "# Utilizar el valor directo daria un error\n",
    "tempFahrenheit = 9/5 * temp_celsius + 32"
   ]
  },
  {
   "cell_type": "code",
   "execution_count": 33,
   "metadata": {},
   "outputs": [
    {
     "name": "stdout",
     "output_type": "stream",
     "text": [
      "Cuantos grados Celsius? 30\n"
     ]
    }
   ],
   "source": [
    "temp_celsius = int(input('Cuantos grados Celsius? '))"
   ]
  },
  {
   "cell_type": "code",
   "execution_count": 34,
   "metadata": {},
   "outputs": [
    {
     "name": "stdout",
     "output_type": "stream",
     "text": [
      "30 grados Celsius es frio!\n"
     ]
    }
   ],
   "source": [
    "tempFahrenheit = 9/5 * temp_celsius + 32\n",
    "print(temp_celsius, 'grados Celsius es frio!')"
   ]
  },
  {
   "cell_type": "code",
   "execution_count": null,
   "metadata": {},
   "outputs": [],
   "source": []
  }
 ],
 "metadata": {
  "kernelspec": {
   "display_name": "ArcGISPro",
   "language": "Python",
   "name": "python3"
  },
  "language_info": {
   "file_extension": ".py",
   "name": "python",
   "version": "3"
  }
 },
 "nbformat": 4,
 "nbformat_minor": 2
}
