{
 "cells": [
  {
   "cell_type": "markdown",
   "metadata": {},
   "source": [
    "# Información General\n",
    "\n",
    "## Referencias\n",
    "Este tutorial está adaptado de [Conditional statements](https://geo-python.github.io/site/notebooks/L3/conditional-statements.html)\n",
    "\n",
    "## Acerca de\n",
    "\n",
    "\n",
    "Este tutorial esta orientado a utilizar *Notebooks* de Jupyter que puede ser abiertos directamente desde el programa Jupyter Notebooks o Jupyter Lab por medio del programa desde la consola de Python de ArcGIS Pro:\n",
    "\n",
    "```\n",
    "$ jupyter lab\n",
    "```\n",
    "\n",
    "## Primeros Pasos\n",
    "\n",
    "Para poder ejecutar instrucciones en Python tiene las siguientes alternativas:\n",
    "- Interprete Python\n",
    "- Editor Interactivo IDLE\n",
    "- Jupyter Notebook\n",
    "\n",
    "En los interpretes de Python se presiona \"Enter\" para poder ejecutar una instrucción. En Jupyter Notebook se presiona \"Shift-Enter\" para ejecutar una celda de código.\n",
    "\n",
    "Una vez abierto una de las opciones puede probar escribir la instrucción básica:\n",
    "\n",
    "```\n",
    "print(\"Hola mundo\")\n",
    "```"
   ]
  },
  {
   "cell_type": "markdown",
   "metadata": {},
   "source": [
    "## Condiciones\n",
    "\n",
    "Las condiciones permiten cambia el comportamiento del código basado en unos criterios determinados.\n",
    "\n",
    "### Utilizando sentencias condicionales\n",
    "\n",
    "Un primer ejemplo."
   ]
  },
  {
   "cell_type": "code",
   "execution_count": 16,
   "metadata": {},
   "outputs": [
    {
     "name": "stdout",
     "output_type": "stream",
     "text": [
      "No hace calor\n"
     ]
    }
   ],
   "source": [
    "temp = 17\n",
    "\n",
    "if temp > 25:\n",
    "    print('Hace calor')\n",
    "else:\n",
    "    print('No hace calor')"
   ]
  },
  {
   "cell_type": "markdown",
   "metadata": {},
   "source": [
    "En este ejemplo se utilizan las sentencia `if` y `else` para determinar que parte del código se ejecuta. Este código verifica la temperatura para determinar si es mayor a 25º en tal caso hace color, si es menor a este valor determina lo contrario. Al ejecutar el código con el valor de 17 se bifurca la ejecución por lo segundo ya que la condición de si 17 es mayor a 25 es falsa."
   ]
  },
  {
   "cell_type": "markdown",
   "metadata": {},
   "source": [
    "#### Ejemplo de otro escenario\n",
    "\n",
    "Utilzando la lógica similiar con condiciones `if` y `else`. En la vida cotidiana se toman este tipo de decisiones diariamente al salir de la casa por cuestiones laborales y decidir qué vestir. En caso de observar las condiciones climáticas del exterior se puede decidir si encaso de lluvia llevar una capera.\n",
    "En Python esto se puede escribir como:\n",
    "\n",
    "```python\n",
    "weather = 'Rain'\n",
    "\n",
    "if weather == 'Rain':\n",
    "    print('Wear a raincoat')\n",
    "else:\n",
    "    print('No raincoat needed')\n",
    "\n",
    "Wear a raincoat\n",
    "```\n",
    "Utilizando el operador `==` ser verifica si un valor es igual a otro.\n",
    "\n",
    "### else es opcional\n",
    "\n",
    "La combinación de if y else es común, pero no siempre escribir ambos es necesarios."
   ]
  },
  {
   "cell_type": "markdown",
   "metadata": {},
   "source": [
    "<div class=\"alert alert-info\">\n",
    "\n",
    "**Note the syntax**\n",
    "\n",
    "Similarly as with for-loops, Python uses colons (`:`) and whitespace (indentations; often four spaces) to structure conditional statements. If the condition is True, the indented code block after the colon (`:`) is executed. The code block may contain several lines of code, but they all must be indented identically:\n",
    "```python\n",
    "weather = 'rain' \n",
    "if weather == 'rain': \n",
    "    print('Wear a raincoat') \n",
    "    print('Wear rain boots') \n",
    "    print('Bring an umbrella')\n",
    "else: \n",
    "    print('No rainwear needed') \n",
    "``` \n",
    "\n",
    "You will receive an `IndentationError`, a `SyntaxError`, or unwated behavior if you haven't indented the code correctly.\n",
    "</div>"
   ]
  },
  {
   "cell_type": "markdown",
   "metadata": {},
   "source": [
    "### Operadores de compaación y valores boolean\n",
    "Los operadores para compara valores como `>` y `==` permite verificar la relación de los valores. La lista de operadores de compareación utilizados en Python son:\n",
    "\n",
    "| Operador | Descripcion              |\n",
    "| -------- | ------------------------ |\n",
    "| <        | Menor que                |\n",
    "| <=       | Menor que o igual        |\n",
    "| ==       | Igual                    |\n",
    "| >=       | Mayor que o igual        |\n",
    "| >        | Mayor que                |\n",
    "| !=       | No igual                 |\n",
    "\n",
    "Cada comparación resulta en valores `boolean` (`True` o `False`). Verificar el resultado de los siguientes ejemplos comparativos:"
   ]
  },
  {
   "cell_type": "code",
   "execution_count": 17,
   "metadata": {},
   "outputs": [
    {
     "name": "stdout",
     "output_type": "stream",
     "text": [
      "17\n"
     ]
    }
   ],
   "source": [
    "print(temp)"
   ]
  },
  {
   "cell_type": "code",
   "execution_count": 18,
   "metadata": {},
   "outputs": [
    {
     "data": {
      "text/plain": [
       "False"
      ]
     },
     "execution_count": 18,
     "metadata": {},
     "output_type": "execute_result"
    }
   ],
   "source": [
    "temp > 25"
   ]
  },
  {
   "cell_type": "code",
   "execution_count": 19,
   "metadata": {},
   "outputs": [
    {
     "data": {
      "text/plain": [
       "False"
      ]
     },
     "execution_count": 19,
     "metadata": {},
     "output_type": "execute_result"
    }
   ],
   "source": [
    "weather == 'Rain'"
   ]
  },
  {
   "cell_type": "markdown",
   "metadata": {},
   "source": [
    "### if, elif y else\n",
    "Se puede enlazar varias condiciones juntas utilziando la sentencia combinada \"else if\" por medio de la sentencia `elif`. Python verifica esta sentencia solo si las setencias previas de `if` resultaron en `False`. Se pueden disponer de múltiples sentencias `elif` para verificar condiciones adicionales.\n",
    "\n",
    "En el siguiente ejemplo se utilizan distintas sentencias para determinar la temeratura sobre cero, congelado y bajo cero:"
   ]
  },
  {
   "cell_type": "code",
   "execution_count": 22,
   "metadata": {},
   "outputs": [],
   "source": [
    "temp = -3"
   ]
  },
  {
   "cell_type": "code",
   "execution_count": 24,
   "metadata": {},
   "outputs": [
    {
     "name": "stdout",
     "output_type": "stream",
     "text": [
      "-3 bajo cero\n"
     ]
    }
   ],
   "source": [
    "if temp > 0:\n",
    "     print(temperature, 'sobre cero')\n",
    "elif temp == 0:\n",
    "     print(temp, 'congelado')\n",
    "else:\n",
    "     print(temp, 'bajo cero')"
   ]
  },
  {
   "cell_type": "markdown",
   "metadata": {},
   "source": [
    "### Condiciones combinadas\n",
    "Se pueden combinar condiciones por medio de la utilización de operadores especiales como `and` y `or` y evaluar sobre valores boolean.\n",
    "\n",
    "| Palabra   |Ejemplo   | Descripcion                          |\n",
    "| --------- |--------- |------------------------------------- |\n",
    "|  and      | a `and` b  | True si ambos a y b son True       |\n",
    "|  or       | a `or` b   | True si cualquiera a o b es True   |\n",
    "\n",
    "El siguiente ejemplo muestra el uso de la decisión de salir en caso que llueva o viento."
   ]
  },
  {
   "cell_type": "code",
   "execution_count": 26,
   "metadata": {},
   "outputs": [
    {
     "name": "stdout",
     "output_type": "stream",
     "text": [
      "Just stay at home\n"
     ]
    }
   ],
   "source": [
    "weather = 'rain'\n",
    "wind = 'windy'\n",
    "\n",
    "if (weather == 'rain') or (wind == 'windy'):\n",
    "    print('Just stay at home')\n",
    "else:\n",
    "    print('Go out and enjoy the weather! :)')"
   ]
  },
  {
   "cell_type": "markdown",
   "metadata": {},
   "source": [
    "### Combinar bucles y concidiones\n",
    "\n",
    "Finalmente, al combinar los bucles con sentencias condicionales se permite tener el siguiente resultado. Primero, recorrer al lista de temperaturas y verificar si hace frio o calor:"
   ]
  },
  {
   "cell_type": "code",
   "execution_count": 27,
   "metadata": {},
   "outputs": [
    {
     "name": "stdout",
     "output_type": "stream",
     "text": [
      "0 no hace calor\n",
      "12 no hace calor\n",
      "17 no hace calor\n",
      "28 ºC hace calor\n",
      "30 ºC hace calor\n"
     ]
    }
   ],
   "source": [
    "temperatures = [0, 12, 17, 28, 30]\n",
    "\n",
    "for temperature in temperatures:\n",
    "    if temperature > 25:\n",
    "        print(temperature, 'ºC hace calor')\n",
    "    else:\n",
    "        print(temperature, 'no hace calor')"
   ]
  },
  {
   "cell_type": "code",
   "execution_count": null,
   "metadata": {},
   "outputs": [],
   "source": []
  }
 ],
 "metadata": {
  "kernelspec": {
   "display_name": "ArcGISPro",
   "language": "Python",
   "name": "python3"
  },
  "language_info": {
   "file_extension": ".py",
   "name": "python",
   "version": "3"
  }
 },
 "nbformat": 4,
 "nbformat_minor": 2
}
