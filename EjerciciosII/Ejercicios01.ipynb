{
 "cells": [
  {
   "cell_type": "markdown",
   "metadata": {},
   "source": [
    "Ejercicios 1 - Números\n",
    "==============\n",
    "_____________________\n",
    "1\\. Para cada expresión, ¿Cuál es el resultado en Python? \n",
    "\n",
    "+ `9 - 3`\n",
    "+ `8 * 2.5`\n",
    "+ `9 / 2`\n",
    "+ `11.2 / -2`\n",
    "+ `11.2 // -2`\n",
    "+ `9 % 2`\n",
    "+ `9 % 2.0`\n",
    "+ `9.0 % 2`\n",
    "+ `-9 % 2`\n",
    "+ `9 / -2.0`\n",
    "+ `4 + 3*5`\n",
    "+ `(4 + 3)*5`\n",
    "\n",
    "Verificar el resultado en el interprete o utilizar `print()`\n"
   ]
  },
  {
   "cell_type": "code",
   "execution_count": null,
   "metadata": {},
   "outputs": [],
   "source": []
  },
  {
   "cell_type": "markdown",
   "metadata": {},
   "source": [
    "2\\. Evalue las siguentes expresiones\n",
    "\n",
    "+ Crear una variable `temp` y asignarle el valor 24\n",
    "+ Convertir el valor de Celsius a Fahrenheit multiplicando por 1.8 y agregando 32, asociar el valor resultante con *temp*. \n",
    "Imprimir el valor de `temp`.\n",
    "\n"
   ]
  },
  {
   "cell_type": "code",
   "execution_count": null,
   "metadata": {},
   "outputs": [],
   "source": []
  },
  {
   "cell_type": "markdown",
   "metadata": {},
   "source": [
    "3\\. Para cada una de las expresiones, ¿en que orden se realizan las subexpresiones?\n",
    "\n",
    "+ `6 * 3 + 7 * 4`\n",
    "+ `5 + 3 / 4`\n",
    "+ `5 - 2 * 3 ** 4`\n"
   ]
  },
  {
   "cell_type": "code",
   "execution_count": null,
   "metadata": {},
   "outputs": [],
   "source": []
  },
  {
   "cell_type": "markdown",
   "metadata": {},
   "source": [
    "4\\. Realizar las siguientes operaciones.\n",
    "\n",
    "+ Crear una nueva variable `x` y asignar el valor `10.5`\n",
    "+ Crear una nueva variable `y` y asignar el valor `4`\n",
    "+ Sumar `x` e `y`, y asignar el resultado en `x`. ¿Cuáles son los valores finales de `x` e `y`?.\n"
   ]
  },
  {
   "cell_type": "code",
   "execution_count": null,
   "metadata": {},
   "outputs": [],
   "source": []
  },
  {
   "cell_type": "markdown",
   "metadata": {},
   "source": [
    "5\\. Utilizar las siguientes funciones incluidas en python `abs`, `round`, `pow`, `int` y `float`. Escriba las siguientes expresiones.\n",
    "\n",
    "+ Calcular 3 elevado a la potencia de 7\n",
    "+ Convertir 34.7 a entero truncado\n",
    "+ Convertir 34.7 a entero redondeado\n",
    "+ Convertir el valor absoluto de -86 a un numero de coma flotante\n",
    "\n",
    "*Nota: Puede utilizar la función `help(func)` para obtener mas ayuda.*"
   ]
  },
  {
   "cell_type": "code",
   "execution_count": null,
   "metadata": {},
   "outputs": [],
   "source": []
  }
 ],
 "metadata": {
  "kernelspec": {
   "display_name": "Python 3",
   "language": "python",
   "name": "python3"
  },
  "language_info": {
   "codemirror_mode": {
    "name": "ipython",
    "version": 3
   },
   "file_extension": ".py",
   "mimetype": "text/x-python",
   "name": "python",
   "nbconvert_exporter": "python",
   "pygments_lexer": "ipython3",
   "version": "3.7.10"
  }
 },
 "nbformat": 4,
 "nbformat_minor": 4
}
