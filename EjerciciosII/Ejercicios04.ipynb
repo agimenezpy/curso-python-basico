{
 "cells": [
  {
   "cell_type": "markdown",
   "metadata": {},
   "source": [
    "Ejercicio 4 - Proyecto en ArcGIS Pro\n",
    "==============\n",
    "_____________________\n",
    "Acceder al siguiente enlace tutorial para poder completar la tarea:\n",
    "\n",
    "[Introducción a Python en ArcGIS Pro](https://learn.arcgis.com/es/projects/get-started-with-python-in-arcgis-pro/)\n",
    "\n",
    "La actividad consiste en completar los siguientes puntos:\n",
    "- Crear un proyecto en ArcGIS Pro\n",
    "- Descargar los datos\n",
    "- Seguir los pasos del tutorial\n",
    "- Generar los Scripts o Notebooks dentro de su proyecto\n",
    "- Crear un Mapa para visualizar las capas\n",
    "- Compactar el proyecto en un zip y subir a la plataforma.\n",
    "\n"
   ]
  },
  {
   "cell_type": "code",
   "execution_count": null,
   "metadata": {},
   "outputs": [],
   "source": []
  }
 ],
 "metadata": {
  "kernelspec": {
   "display_name": "Python 3",
   "language": "python",
   "name": "python3"
  },
  "language_info": {
   "codemirror_mode": {
    "name": "ipython",
    "version": 3
   },
   "file_extension": ".py",
   "mimetype": "text/x-python",
   "name": "python",
   "nbconvert_exporter": "python",
   "pygments_lexer": "ipython3",
   "version": "3.7.10"
  }
 },
 "nbformat": 4,
 "nbformat_minor": 4
}
