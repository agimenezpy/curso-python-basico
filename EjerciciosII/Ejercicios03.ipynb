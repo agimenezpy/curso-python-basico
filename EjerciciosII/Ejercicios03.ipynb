{
 "cells": [
  {
   "cell_type": "markdown",
   "metadata": {},
   "source": [
    "Ejercicios: Listas\n",
    "====================\n",
    "_____________________\n",
    "1\\. Escribir un programa que pida al usuario una lista de enteros y realiza lo siguiente:\n",
    "\n",
    "+ Imprimir el número total de items de la lista\n",
    "+ Imprimir el primer elemento de la lista\n",
    "+ Imprimir el último elemento de la lista\n",
    "+ Imprimir la lista inversa\n",
    "\n",
    "_Ayuda_: Puede utilizar la función `range` para generar una lista de enteros. O utilizar `eval` para leer del teclado la lista en el formato `[2, 3, 4]`."
   ]
  },
  {
   "cell_type": "code",
   "execution_count": null,
   "metadata": {},
   "outputs": [],
   "source": []
  },
  {
   "cell_type": "markdown",
   "metadata": {},
   "source": [
    "2\\. Empezar con la lista `[8,9,10]`. Realizar las operaciones:\n",
    "\n",
    "+ Poner como segundo elemento (indice 1) el valor de 17\n",
    "+ Agregar 4, 5 y 6 al final de lista\n",
    "+ Eliminar el primer elemento de la lista\n",
    "+ Ordenar la lista\n",
    "+ Duplicar la lista\n",
    "+ Insertar 25 en el indice 3\n",
    "\n",
    "La lista final deberia ser igual a `[4,5,6,25,10,17,4,5,6,10,17]`"
   ]
  },
  {
   "cell_type": "code",
   "execution_count": null,
   "metadata": {},
   "outputs": [],
   "source": []
  },
  {
   "cell_type": "markdown",
   "metadata": {},
   "source": [
    "3\\. Escribir un programa que utiliza las listas L=[3,1,4] y M=[1,5,9] del mismo tamaño que suma sus elementos y guarda el resultado en una lista N. El resultado debe ser N=[4,6,13]"
   ]
  },
  {
   "cell_type": "code",
   "execution_count": null,
   "metadata": {},
   "outputs": [],
   "source": []
  },
  {
   "cell_type": "markdown",
   "metadata": {},
   "source": [
    "4\\. Escribir un programa que ingrese desde el teclado un numero de segundos e imprima cuantos minutos y segundos posee. Ejemplo, 200 segundos es 3 minutos y 20 segundos. \n",
    "\n",
    "_Ayuda_: Puede utilizar el operador // de division entera y el operador % para los segundos."
   ]
  },
  {
   "cell_type": "code",
   "execution_count": null,
   "metadata": {},
   "outputs": [],
   "source": []
  }
 ],
 "metadata": {
  "kernelspec": {
   "display_name": "Python 3",
   "language": "python",
   "name": "python3"
  },
  "language_info": {
   "codemirror_mode": {
    "name": "ipython",
    "version": 3
   },
   "file_extension": ".py",
   "mimetype": "text/x-python",
   "name": "python",
   "nbconvert_exporter": "python",
   "pygments_lexer": "ipython3",
   "version": "3.7.10"
  }
 },
 "nbformat": 4,
 "nbformat_minor": 4
}
