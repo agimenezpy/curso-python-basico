{
 "cells": [
  {
   "cell_type": "markdown",
   "metadata": {},
   "source": [
    "Ejercicios: Cadenas\n",
    "====================\n",
    "_____________________\n",
    "1\\. Para cada una de las siguientes expresiones, ¿cuál es el valor resultante?\n",
    "\n",
    "+ `'Comp' 'Sci'`\n",
    "+ `'Computer' + 'Science'`\n",
    "+ `'Darwin\\'s'`\n",
    "+ `'H2O'*3`\n",
    "+ `'CO2'*0`"
   ]
  },
  {
   "cell_type": "code",
   "execution_count": null,
   "metadata": {},
   "outputs": [],
   "source": []
  },
  {
   "cell_type": "markdown",
   "metadata": {},
   "source": [
    "2\\. Utilice la funcion `len` para determinar la longitud de las siguientes cadenas\n",
    "\n",
    "+ `\"\"`\n",
    "+ `\"Washington\"` \n",
    "+ `'abc'`"
   ]
  },
  {
   "cell_type": "code",
   "execution_count": null,
   "metadata": {},
   "outputs": [],
   "source": []
  },
  {
   "cell_type": "markdown",
   "metadata": {},
   "source": [
    "3\\. Dadas las siguientes variables `x` e `y`, cuyos valores son `3` y `12.5`. Utilizar la sentencia `print` \n",
    "para desplegar los siguientes mensajes.\n",
    "\n",
    "+ El conejo tiene 3\n",
    "+ El conejo tiene 3 años\n",
    "+ 12.5 es el promedio\n",
    "+ 12.5 * 3\n",
    "+ 12.5 * 3 es 37.5"
   ]
  },
  {
   "cell_type": "code",
   "execution_count": null,
   "metadata": {},
   "outputs": [],
   "source": []
  },
  {
   "cell_type": "markdown",
   "metadata": {},
   "source": [
    "4\\. Pedir al usuario un número del teclado. Convertir el valor a entero (`int`) y almacenarlo en la variable `edad`. Realizar las siguientes operaciones.\n",
    "\n",
    "+ Calcular los dias vividos en una variable `dias` e imprimirlo. Un año tiene 365 dias\n",
    "+ Calcular las horas vividas una variable `horas` e imprimirlo. Una dia tiene 24 horas\n",
    "+ Calcular los minutos vividos en una variable `minutos` e imprimirlo. Una hora tiene 60 minutos\n",
    "+ Calcular los segundos vividos en una variable `segundos` e imprimirlo. Un minuto tiene 60 segundos\n",
    "\n",
    "_Ayuda_: La impresión puede ser `\"Usted tiene XX dias, YY horas, NN minutos y SS segundos vividos\"`"
   ]
  },
  {
   "cell_type": "code",
   "execution_count": null,
   "metadata": {},
   "outputs": [],
   "source": []
  },
  {
   "cell_type": "markdown",
   "metadata": {},
   "source": [
    "5\\. Escribir un programa para leer un valor del teclado e imprimir las siguientes expresiones:\n",
    "\n",
    "+ El número total de caracteres \n",
    "+ La cadena repetida 10 veces\n",
    "+ El primer caracter de la cadena\n",
    "+ Los primeros 3 caracteres de la cadena\n",
    "+ Los últimos 3 caracteres de la cadena\n",
    "+ The string backwards\n",
    "+ La cadena en mayusculas\n",
    "+ La cadena en minusculas\n",
    "+ Reemplazar la cadena \"a\" por \"e\""
   ]
  },
  {
   "cell_type": "code",
   "execution_count": null,
   "metadata": {},
   "outputs": [],
   "source": []
  },
  {
   "cell_type": "markdown",
   "metadata": {},
   "source": [
    "6\\. Escribir un programa que dado una cadena con numeros decimales, solamente imprima la parte decimal del numero. Ejemplo, si tenemos el valor `3.14159`, el programa imprima `.14159`."
   ]
  },
  {
   "cell_type": "code",
   "execution_count": null,
   "metadata": {},
   "outputs": [],
   "source": []
  }
 ],
 "metadata": {
  "kernelspec": {
   "display_name": "Python 3",
   "language": "python",
   "name": "python3"
  },
  "language_info": {
   "codemirror_mode": {
    "name": "ipython",
    "version": 3
   },
   "file_extension": ".py",
   "mimetype": "text/x-python",
   "name": "python",
   "nbconvert_exporter": "python",
   "pygments_lexer": "ipython3",
   "version": "3.7.10"
  }
 },
 "nbformat": 4,
 "nbformat_minor": 4
}
